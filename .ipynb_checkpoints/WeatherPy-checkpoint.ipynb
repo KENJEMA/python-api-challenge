{
 "cells": [
  {
   "cell_type": "markdown",
   "metadata": {},
   "source": [
    "# WeatherPy\n",
    "----\n",
    "\n",
    "#### Note\n",
    "* Instructions have been included for each segment. You do not have to follow them exactly, but they are included to help you think through the steps."
   ]
  },
  {
   "cell_type": "code",
   "execution_count": 1,
   "metadata": {},
   "outputs": [
    {
     "name": "stdout",
     "output_type": "stream",
     "text": [
      "Requirement already satisfied: citipy in c:\\programdata\\anaconda3\\lib\\site-packages (0.0.5)\n",
      "Requirement already satisfied: kdtree>=0.12 in c:\\programdata\\anaconda3\\lib\\site-packages (from citipy) (0.16)\n",
      "Note: you may need to restart the kernel to use updated packages.\n"
     ]
    }
   ],
   "source": [
    "pip install citipy"
   ]
  },
  {
   "cell_type": "code",
   "execution_count": 2,
   "metadata": {
    "scrolled": true
   },
   "outputs": [],
   "source": [
    "# Dependencies and Setup\n",
    "import matplotlib.pyplot as plt\n",
    "import pandas as pd\n",
    "import numpy as np\n",
    "import requests\n",
    "import time\n",
    "from scipy.stats import linregress\n",
    "\n",
    "# Import API key\n",
    "from config import weather_api_key\n",
    "\n",
    "# Incorporated citipy to determine city based on latitude and longitude\n",
    "from citipy import citipy\n",
    "\n",
    "# Output File (CSV)\n",
    "output_data_file = \"output_data/cities.csv\"\n",
    "\n",
    "# Range of latitudes and longitudes\n",
    "lat_range = (-90, 90)\n",
    "lng_range = (-180, 180)"
   ]
  },
  {
   "cell_type": "markdown",
   "metadata": {},
   "source": [
    "## Generate Cities List"
   ]
  },
  {
   "cell_type": "markdown",
   "metadata": {},
   "source": [
    "### Perform API Calls\n",
    "* Perform a weather check on each city using a series of successive API calls.\n",
    "* Include a print log of each city as it'sbeing processed (with the city number and city name).\n"
   ]
  },
  {
   "cell_type": "code",
   "execution_count": 3,
   "metadata": {},
   "outputs": [
    {
     "data": {
      "text/plain": [
       "624"
      ]
     },
     "execution_count": 3,
     "metadata": {},
     "output_type": "execute_result"
    }
   ],
   "source": [
    "# List for holding lat_lngs and cities\n",
    "lat_lngs = []\n",
    "cities = []\n",
    "\n",
    "# Create a set of random lat and lng combinations\n",
    "lats = np.random.uniform(lat_range[0], lat_range[1], size=1500)\n",
    "lngs = np.random.uniform(lng_range[0], lng_range[1], size=1500)\n",
    "lat_lngs = zip(lats, lngs)\n",
    "\n",
    "# Identify nearest city for each lat, lng combination\n",
    "for lat_lng in lat_lngs:\n",
    "    city = citipy.nearest_city(lat_lng[0], lat_lng[1]).city_name\n",
    "    \n",
    "    # If the city is unique, then add it to a our cities list\n",
    "    if city not in cities:\n",
    "        cities.append(city)\n",
    "\n",
    "# Print the city count to confirm sufficient count\n",
    "len(cities)"
   ]
  },
  {
   "cell_type": "code",
   "execution_count": 4,
   "metadata": {},
   "outputs": [
    {
     "name": "stdout",
     "output_type": "stream",
     "text": [
      "City Umzimvubu not found. Skipping...\n",
      "City Sentyabrskiy not found. Skipping...\n",
      "City Grand River South East not found. Skipping...\n",
      "City Babanusah not found. Skipping...\n",
      "City Taolanaro not found. Skipping...\n",
      "City Kuche not found. Skipping...\n",
      "City Marcona not found. Skipping...\n",
      "City Solsvik not found. Skipping...\n",
      "City Mys Shmidta not found. Skipping...\n",
      "City Mullaitivu not found. Skipping...\n",
      "City Lolua not found. Skipping...\n",
      "City Illoqqortoormiut not found. Skipping...\n",
      "City Kadykchan not found. Skipping...\n",
      "City Samusu not found. Skipping...\n",
      "City Amderma not found. Skipping...\n",
      "City Barentsburg not found. Skipping...\n",
      "City Belushya Guba not found. Skipping...\n",
      "City Gulshat not found. Skipping...\n",
      "City Vaitupu not found. Skipping...\n",
      "City Zhanatas not found. Skipping...\n",
      "City Ondorhaan not found. Skipping...\n",
      "City Matsanga not found. Skipping...\n",
      "City Tawkar not found. Skipping...\n",
      "City Rungata not found. Skipping...\n",
      "City Chom Bung not found. Skipping...\n",
      "City Longlac not found. Skipping...\n",
      "City Gangotri not found. Skipping...\n",
      "City Churumuco not found. Skipping...\n",
      "City Lugovskiy not found. Skipping...\n",
      "City Ji-Parana not found. Skipping...\n",
      "City Saleaula not found. Skipping...\n",
      "City Malwan not found. Skipping...\n",
      "City Kamenskoye not found. Skipping...\n",
      "City Palabuhanratu not found. Skipping...\n",
      "City Ivajlovgrad not found. Skipping...\n",
      "City Tsihombe not found. Skipping...\n",
      "City Attawapiskat not found. Skipping...\n",
      "City Nizhneyansk not found. Skipping...\n",
      "City Ciras not found. Skipping...\n",
      "City Sinkat not found. Skipping...\n",
      "City Mixtequilla not found. Skipping...\n",
      "City Yetholm not found. Skipping...\n",
      "City Guekedou not found. Skipping...\n",
      "City Trois-Pistoles not found. Skipping...\n",
      "City Muzquiz not found. Skipping...\n",
      "City Karkaralinsk not found. Skipping...\n",
      "City Angra not found. Skipping...\n"
     ]
    }
   ],
   "source": [
    "# Create empty dataframe with the required columns\n",
    "\n",
    "Weather_df=pd.DataFrame()\n",
    "Weather_df['City'] = ''\n",
    "Weather_df['Country'] = ''\n",
    "Weather_df['Lat'] = ''\n",
    "Weather_df['Lng'] = ''\n",
    "Weather_df['Humidity'] = ''\n",
    "Weather_df['Cloudiness'] = ''\n",
    "Weather_df['Max Temp'] = ''\n",
    "Weather_df['Wind Speed'] = ''\n",
    "Weather_df['Date'] = ''\n",
    "\n",
    "#loop through cities list created from the random lat/lngs and the pycity library\n",
    "for city in cities:\n",
    "    real_city = city.title()\n",
    "    #go to the openweather page for each valid city in the cities list\n",
    "    url = f'http://api.openweathermap.org/data/2.5/weather?q={real_city}&appid={weather_api_key}'\n",
    "    #request data for the each city\n",
    "    data = requests.get(url).json()\n",
    "    #find the information and fill into the empty dataframe for each city\n",
    "    try:\n",
    "        lat = data[\"coord\"][\"lat\"]\n",
    "        lon = data[\"coord\"][\"lon\"]\n",
    "        country = data['sys']['country']\n",
    "        humidity = data['main']['humidity']\n",
    "        cloudiness = data['clouds']['all']\n",
    "        max_temp = data['main']['temp_max']\n",
    "        wind_speed = data['wind']['speed']\n",
    "        date = data['dt']\n",
    "        Weather_df.loc[city,'City'] = real_city\n",
    "        Weather_df.loc[city,'Country'] = country\n",
    "        Weather_df.loc[city,'Lat'] = lat\n",
    "        Weather_df.loc[city,'Lng'] = lon\n",
    "        Weather_df.loc[city,'Humidity'] = humidity\n",
    "        Weather_df.loc[city,'Cloudiness'] = cloudiness\n",
    "        Weather_df.loc[city,'Max Temp'] = max_temp\n",
    "        Weather_df.loc[city,'Wind Speed'] = wind_speed\n",
    "        Weather_df.loc[city,'Date'] = date\n",
    "    #if the city is not found in the openweather API skip, record, and and move to the next\n",
    "    except KeyError:\n",
    "        print(f'City {real_city} not found. Skipping...')"
   ]
  },
  {
   "cell_type": "markdown",
   "metadata": {},
   "source": [
    "### Convert Raw Data to DataFrame\n",
    "* Export the city data into a .csv.\n",
    "* Display the DataFrame"
   ]
  },
  {
   "cell_type": "code",
   "execution_count": 5,
   "metadata": {},
   "outputs": [
    {
     "data": {
      "text/plain": [
       "['sorland',\n",
       " 'umzimvubu',\n",
       " 'gusau',\n",
       " 'albany',\n",
       " 'busselton',\n",
       " 'ratnagiri',\n",
       " 'barmer',\n",
       " 'vaini',\n",
       " 'sentyabrskiy',\n",
       " 'zhanakorgan',\n",
       " 'grand river south east',\n",
       " 'amos',\n",
       " 'tautira',\n",
       " 'barrow',\n",
       " 'babanusah',\n",
       " 'paamiut',\n",
       " 'atuona',\n",
       " 'provideniya',\n",
       " 'alot',\n",
       " 'ilo',\n",
       " 'key west',\n",
       " 'la palma',\n",
       " 'yellowknife',\n",
       " 'taolanaro',\n",
       " 'qaanaaq',\n",
       " 'hilo',\n",
       " 'bluff',\n",
       " 'rikitea',\n",
       " 'acarau',\n",
       " 'saint-philippe',\n",
       " 'georgetown',\n",
       " 'sao miguel do araguaia',\n",
       " 'punta arenas',\n",
       " 'namatanai',\n",
       " 'ambulu',\n",
       " 'evensk',\n",
       " 'sakakah',\n",
       " 'katsuura',\n",
       " 'bud',\n",
       " 'labuhan',\n",
       " 'ilek',\n",
       " 'elizabeth city',\n",
       " 'hasaki',\n",
       " 'aktau',\n",
       " 'bonthe',\n",
       " 'mataura',\n",
       " 'luderitz',\n",
       " 'victoria',\n",
       " 'kuche',\n",
       " 'airai',\n",
       " 'port alfred',\n",
       " 'mar del plata',\n",
       " 'dikson',\n",
       " 'tazovskiy',\n",
       " 'ancud',\n",
       " 'severo-kurilsk',\n",
       " 'nam som',\n",
       " 'tres barras',\n",
       " 'aklavik',\n",
       " 'arman',\n",
       " 'lebu',\n",
       " 'ushuaia',\n",
       " 'ayan',\n",
       " 'winton',\n",
       " 'seoul',\n",
       " 'susner',\n",
       " 'gornyatskiy',\n",
       " 'tuatapere',\n",
       " 'nome',\n",
       " 'kargasok',\n",
       " 'turiacu',\n",
       " 'necochea',\n",
       " 'cape town',\n",
       " 'hobart',\n",
       " 'hamilton',\n",
       " 'jamestown',\n",
       " 'port hardy',\n",
       " 'barahona',\n",
       " 'puerto ayora',\n",
       " 'novooleksiyivka',\n",
       " 'ponta do sol',\n",
       " 'hermanus',\n",
       " 'yamandu',\n",
       " 'mazyr',\n",
       " 'clyde river',\n",
       " 'marcona',\n",
       " 'nicoya',\n",
       " 'constitucion',\n",
       " 'vao',\n",
       " 'padang',\n",
       " 'axim',\n",
       " 'angoche',\n",
       " 'silver city',\n",
       " 'lorengau',\n",
       " 'butaritari',\n",
       " 'bredasdorp',\n",
       " 'dakar',\n",
       " 'skoghall',\n",
       " 'ajdabiya',\n",
       " 'new norfolk',\n",
       " 'fortuna',\n",
       " 'goderich',\n",
       " 'assiniboia',\n",
       " 'storslett',\n",
       " 'codrington',\n",
       " 'bengkulu',\n",
       " 'bandarbeyla',\n",
       " 'miri',\n",
       " 'nipawin',\n",
       " 'chuy',\n",
       " 'kapaa',\n",
       " 'torbay',\n",
       " 'klaksvik',\n",
       " 'koslan',\n",
       " 'solsvik',\n",
       " 'hovd',\n",
       " 'tiksi',\n",
       " 'hambantota',\n",
       " 'saint-augustin',\n",
       " 'sao gabriel da cachoeira',\n",
       " 'puerto narino',\n",
       " 'george town',\n",
       " 'nangwa',\n",
       " 'cayenne',\n",
       " 'thompson',\n",
       " 'lompoc',\n",
       " 'pedernales',\n",
       " 'ilovlya',\n",
       " 'teguldet',\n",
       " 'gat',\n",
       " 'plainview',\n",
       " 'turmalina',\n",
       " 'mys shmidta',\n",
       " 'semey',\n",
       " 'plettenberg bay',\n",
       " 'zwedru',\n",
       " 'east london',\n",
       " 'carnarvon',\n",
       " 'ferrenafe',\n",
       " 'castro',\n",
       " 'mayo',\n",
       " 'ranong',\n",
       " 'mullaitivu',\n",
       " 'guerrero negro',\n",
       " 'sao filipe',\n",
       " 'la seyne-sur-mer',\n",
       " 'bodden town',\n",
       " 'murdochville',\n",
       " 'lolua',\n",
       " 'nikolskoye',\n",
       " 'kuryk',\n",
       " 'zabol',\n",
       " 'una',\n",
       " 'hegang',\n",
       " 'vylkove',\n",
       " 'yulara',\n",
       " 'pisco',\n",
       " 'laguna',\n",
       " 'pangai',\n",
       " 'avarua',\n",
       " 'kosh-agach',\n",
       " 'illoqqortoormiut',\n",
       " 'kadykchan',\n",
       " 'samusu',\n",
       " 'port blair',\n",
       " 'amderma',\n",
       " 'tasiilaq',\n",
       " 'kavaratti',\n",
       " 'hithadhoo',\n",
       " 'trincomalee',\n",
       " 'bethel',\n",
       " 'dingle',\n",
       " 'sibolga',\n",
       " 'upernavik',\n",
       " 'road town',\n",
       " 'iskateley',\n",
       " 'port elizabeth',\n",
       " 'karratha',\n",
       " 'port moresby',\n",
       " 'nushki',\n",
       " 'marsa matruh',\n",
       " 'ishigaki',\n",
       " 'saint-pierre',\n",
       " 'kyotera',\n",
       " 'brande',\n",
       " 'taoudenni',\n",
       " 'grand gaube',\n",
       " 'aasiaat',\n",
       " 'ilulissat',\n",
       " 'kodiak',\n",
       " 'baghdad',\n",
       " 'ketchikan',\n",
       " 'barentsburg',\n",
       " 'nalut',\n",
       " 'belushya guba',\n",
       " 'chumikan',\n",
       " 'preobrazheniye',\n",
       " 'eureka',\n",
       " 'iqaluit',\n",
       " 'saskylakh',\n",
       " 'saldanha',\n",
       " 'phan thiet',\n",
       " 'lata',\n",
       " 'longyearbyen',\n",
       " 'mugur-aksy',\n",
       " 'anastacio',\n",
       " 'maues',\n",
       " 'khatanga',\n",
       " 'dawei',\n",
       " 'richards bay',\n",
       " 'samarai',\n",
       " 'visnes',\n",
       " 'kidal',\n",
       " 'nanortalik',\n",
       " 'saint albans',\n",
       " 'chokurdakh',\n",
       " 'great yarmouth',\n",
       " 'port-cartier',\n",
       " 'trabzon',\n",
       " 'umm lajj',\n",
       " 'marsh harbour',\n",
       " 'port augusta',\n",
       " 'san patricio',\n",
       " 'san vicente de canete',\n",
       " 'cuauhtemoc',\n",
       " 'faanui',\n",
       " 'broome',\n",
       " 'marsabit',\n",
       " 'mujiayingzi',\n",
       " 'minot',\n",
       " 'ulcinj',\n",
       " 'san luis',\n",
       " 'homer',\n",
       " 'qasigiannguit',\n",
       " 'maningrida',\n",
       " 'san juan',\n",
       " 'fort-shevchenko',\n",
       " 'pangody',\n",
       " 'mitsamiouli',\n",
       " 'kruisfontein',\n",
       " 'uchiza',\n",
       " 'yerbogachen',\n",
       " 'luangwa',\n",
       " 'bathsheba',\n",
       " 'mahebourg',\n",
       " 'peace river',\n",
       " 'sungairaya',\n",
       " 'caravelas',\n",
       " 'gulshat',\n",
       " 'north bend',\n",
       " 'cabo san lucas',\n",
       " 'rey bouba',\n",
       " 'sahuaripa',\n",
       " 'cherskiy',\n",
       " 'puerto baquerizo moreno',\n",
       " 'jalgaon',\n",
       " 'larap',\n",
       " 'tolaga bay',\n",
       " 'bambous virieux',\n",
       " 'saint anthony',\n",
       " 'vaitupu',\n",
       " 'evanston',\n",
       " 'hofn',\n",
       " 'puri',\n",
       " 'gaziantep',\n",
       " 'black river',\n",
       " 'channel-port aux basques',\n",
       " 'sabang',\n",
       " 'besuki',\n",
       " 'carutapera',\n",
       " 'redlands',\n",
       " 'zhanatas',\n",
       " 'cidreira',\n",
       " 'marzuq',\n",
       " 'harper',\n",
       " 'dondo',\n",
       " 'ondorhaan',\n",
       " 'henties bay',\n",
       " 'temerloh',\n",
       " 'matsanga',\n",
       " 'dalianwan',\n",
       " 'serenje',\n",
       " 'kapchorwa',\n",
       " 'aswan',\n",
       " 'los llanos de aridane',\n",
       " 'tawkar',\n",
       " 'rungata',\n",
       " 'baghmara',\n",
       " 'povenets',\n",
       " 'jinka',\n",
       " 'centralia',\n",
       " 'palkonda',\n",
       " 'saint george',\n",
       " 'urbana',\n",
       " 'norsup',\n",
       " 'chom bung',\n",
       " 'lavrentiya',\n",
       " 'conceicao da barra',\n",
       " 'tuktoyaktuk',\n",
       " 'saurimo',\n",
       " 'bone',\n",
       " 'amapa',\n",
       " 'coahuayana',\n",
       " 'sobolevo',\n",
       " 'karpogory',\n",
       " 'suez',\n",
       " 'longlac',\n",
       " 'neiafu',\n",
       " 'ullal',\n",
       " 'kahului',\n",
       " 'coihaique',\n",
       " 'ouadda',\n",
       " 'arraial do cabo',\n",
       " 'gangotri',\n",
       " 'tefe',\n",
       " 'hue',\n",
       " 'carrick-on-suir',\n",
       " 'nova praha',\n",
       " 'xichang',\n",
       " 'portland',\n",
       " 'churumuco',\n",
       " 'nemuro',\n",
       " 'norman wells',\n",
       " 'rio grande',\n",
       " 'lugovskiy',\n",
       " 'morant bay',\n",
       " 'oslo',\n",
       " 'balikpapan',\n",
       " 'conceicao do araguaia',\n",
       " 'berlevag',\n",
       " 'maceio',\n",
       " 'kiama',\n",
       " 'ribeira grande',\n",
       " 'kulhudhuffushi',\n",
       " 'chapais',\n",
       " 'tura',\n",
       " 'sisimiut',\n",
       " 'ji-parana',\n",
       " 'narsaq',\n",
       " 'nadvoitsy',\n",
       " 'petropavlovsk-kamchatskiy',\n",
       " 'sokoni',\n",
       " 'galveston',\n",
       " 'jacqueville',\n",
       " 'svay rieng',\n",
       " 'voh',\n",
       " 'dunedin',\n",
       " 'vanimo',\n",
       " 'meridian',\n",
       " 'belmonte',\n",
       " 'barcelos',\n",
       " 'biak',\n",
       " 'lykhivka',\n",
       " 'thinadhoo',\n",
       " 'cambrils',\n",
       " 'wyndham',\n",
       " 'haines junction',\n",
       " 'maniitsoq',\n",
       " 'bara',\n",
       " 'alice town',\n",
       " 'aksarka',\n",
       " 'outjo',\n",
       " 'kalemie',\n",
       " 'chotebor',\n",
       " 'tottori',\n",
       " 'sakaiminato',\n",
       " 'wana',\n",
       " 'port lincoln',\n",
       " 'tabora',\n",
       " 'chicama',\n",
       " 'renala khurd',\n",
       " 'saleaula',\n",
       " 'vetlanda',\n",
       " 'mabaruma',\n",
       " 'malwan',\n",
       " 'xihe',\n",
       " 'beira',\n",
       " 'manggar',\n",
       " 'kamenskoye',\n",
       " 'fairbanks',\n",
       " 'mehamn',\n",
       " 'gilgit',\n",
       " 'port hedland',\n",
       " 'luena',\n",
       " 'palabuhanratu',\n",
       " 'perth',\n",
       " 'warman',\n",
       " 'jalu',\n",
       " 'kaitangata',\n",
       " 'sitka',\n",
       " 'lingyuan',\n",
       " 'vostok',\n",
       " 'kedougou',\n",
       " 'san joaquin',\n",
       " 'kavieng',\n",
       " 'parole',\n",
       " 'esperance',\n",
       " 'malatya',\n",
       " 'chegdomyn',\n",
       " 'ivajlovgrad',\n",
       " 'sao joao da barra',\n",
       " 'coffs harbour',\n",
       " 'talnakh',\n",
       " 'waipawa',\n",
       " 'kysyl-syr',\n",
       " 'kingsport',\n",
       " 'cairns',\n",
       " 'ponoka',\n",
       " 'san mateo',\n",
       " 'salinopolis',\n",
       " 'tessalit',\n",
       " 'kungurtug',\n",
       " 'contamana',\n",
       " 'ereymentau',\n",
       " 'kinsale',\n",
       " 'alofi',\n",
       " 'shiyan',\n",
       " 'vestmannaeyjar',\n",
       " 'tateyama',\n",
       " 'dandong',\n",
       " 'tsihombe',\n",
       " 'savyntsi',\n",
       " 'leningradskiy',\n",
       " 'garmsar',\n",
       " 'yumen',\n",
       " 'kashi',\n",
       " 'honiara',\n",
       " 'attawapiskat',\n",
       " 'teya',\n",
       " 'gossas',\n",
       " 'bakchar',\n",
       " 'moerai',\n",
       " 'colares',\n",
       " 'geraldton',\n",
       " 'kalmunai',\n",
       " 'hirson',\n",
       " 'port macquarie',\n",
       " 'prince albert',\n",
       " 'san carlos',\n",
       " 'atbasar',\n",
       " 'isangel',\n",
       " 'pingxiang',\n",
       " 'tual',\n",
       " 'presidencia roque saenz pena',\n",
       " 'tecoanapa',\n",
       " 'nouadhibou',\n",
       " 'anadyr',\n",
       " 'gizo',\n",
       " 'opuwo',\n",
       " 'luba',\n",
       " 'orotukan',\n",
       " 'altay',\n",
       " 'lachi',\n",
       " 'luwuk',\n",
       " 'inhuma',\n",
       " 'cazones',\n",
       " 'talcahuano',\n",
       " 'sovetskiy',\n",
       " 'areosa',\n",
       " 'mandalgovi',\n",
       " 'lasa',\n",
       " 'kukmor',\n",
       " 'ballina',\n",
       " 'durango',\n",
       " 'vikravandi',\n",
       " 'mbala',\n",
       " 'yar-sale',\n",
       " 'pavlovka',\n",
       " 'flinders',\n",
       " 'ust-kulom',\n",
       " 'rocha',\n",
       " 'sam chuk',\n",
       " 'barkhan',\n",
       " 'mariental',\n",
       " 'vila velha',\n",
       " 'tortoli',\n",
       " 'granada',\n",
       " 'chilca',\n",
       " 'hammerfest',\n",
       " 'general macarthur',\n",
       " 'parati',\n",
       " 'porto novo',\n",
       " 'businga',\n",
       " 'kang',\n",
       " 'alvaraes',\n",
       " 'bajil',\n",
       " 'nizhneyansk',\n",
       " 'asau',\n",
       " 'turbat',\n",
       " 'alta floresta',\n",
       " 'fort nelson',\n",
       " 'okhotsk',\n",
       " 'muromtsevo',\n",
       " 'aksu',\n",
       " 'vitim',\n",
       " 'donskoye',\n",
       " 'coueron',\n",
       " 'maraba',\n",
       " 'thohoyandou',\n",
       " 'shelburne',\n",
       " 'auki',\n",
       " 'constantine',\n",
       " 'cockburn town',\n",
       " 'vila',\n",
       " 'mana',\n",
       " 'maxixe',\n",
       " 'lagoa',\n",
       " 'pokrovsk',\n",
       " 'port-gentil',\n",
       " 'ugoofaaru',\n",
       " 'belaya gora',\n",
       " 'souillac',\n",
       " 'ahipara',\n",
       " 'sept-iles',\n",
       " 'usinsk',\n",
       " 'vardo',\n",
       " 'ciras',\n",
       " 'cabras',\n",
       " 'cam ranh',\n",
       " 'cheremukhovo',\n",
       " 'manbij',\n",
       " 'egvekinot',\n",
       " 'la ronge',\n",
       " 'zhezkazgan',\n",
       " 'arlit',\n",
       " 'pacific grove',\n",
       " 'kerrobert',\n",
       " 'roald',\n",
       " 'chapada dos guimaraes',\n",
       " 'kirakira',\n",
       " 'amur',\n",
       " 'ceres',\n",
       " 'kyra',\n",
       " 'kasongo-lunda',\n",
       " 'mitu',\n",
       " 'chengde',\n",
       " 'ponta delgada',\n",
       " 'sinkat',\n",
       " 'malpur',\n",
       " 'ust-nera',\n",
       " 'malko tarnovo',\n",
       " 'kajaani',\n",
       " 'bashtanka',\n",
       " 'rio gallegos',\n",
       " 'katobu',\n",
       " 'vandra',\n",
       " 'ankang',\n",
       " 'perevolotskiy',\n",
       " 'karacakoy',\n",
       " 'mixtequilla',\n",
       " 'ivanava',\n",
       " 'prainha',\n",
       " 'yetholm',\n",
       " 'hastings',\n",
       " 'parana',\n",
       " 'provost',\n",
       " 'touros',\n",
       " 'mangan',\n",
       " 'san blas',\n",
       " 'gimli',\n",
       " 'kabompo',\n",
       " 'swan river',\n",
       " 'sioux lookout',\n",
       " 'kurchum',\n",
       " 'coronado',\n",
       " 'zhigansk',\n",
       " 'le pradet',\n",
       " 'mangaratiba',\n",
       " 'san cristobal',\n",
       " 'carbondale',\n",
       " 'yeppoon',\n",
       " 'saint-joseph',\n",
       " 'anloga',\n",
       " 'tarpa',\n",
       " 'scarborough',\n",
       " 'mumbwa',\n",
       " 'daman',\n",
       " 'beringovskiy',\n",
       " 'matagami',\n",
       " 'ko samui',\n",
       " 'palana',\n",
       " 'brae',\n",
       " 'guekedou',\n",
       " 'westport',\n",
       " 'salalah',\n",
       " 'sola',\n",
       " 'suntar',\n",
       " 'bukama',\n",
       " 'palamos',\n",
       " 'kefamenanu',\n",
       " 'beyneu',\n",
       " 'kodinsk',\n",
       " 'palauig',\n",
       " 'vila franca do campo',\n",
       " 'ormara',\n",
       " 'trois-pistoles',\n",
       " 'leh',\n",
       " 'imeni zhelyabova',\n",
       " 'neryungri',\n",
       " 'muzquiz',\n",
       " 'nyurba',\n",
       " 'kisangani',\n",
       " 'katherine',\n",
       " 'pathein',\n",
       " 'bangassou',\n",
       " 'planaltina',\n",
       " 'yumaguzino',\n",
       " 'tagusao',\n",
       " 'araouane',\n",
       " 'ulaangom',\n",
       " 'pevek',\n",
       " 'port keats',\n",
       " 'kraskino',\n",
       " 'mishkino',\n",
       " 'ulety',\n",
       " 'itoman',\n",
       " 'yatou',\n",
       " 'sorong',\n",
       " 'duluth',\n",
       " 'karkaralinsk',\n",
       " 'havre-saint-pierre',\n",
       " 'angra',\n",
       " 'qurayyat',\n",
       " 'tra vinh']"
      ]
     },
     "execution_count": 5,
     "metadata": {},
     "output_type": "execute_result"
    }
   ],
   "source": [
    "cities       "
   ]
  },
  {
   "cell_type": "code",
   "execution_count": 7,
   "metadata": {},
   "outputs": [
    {
     "data": {
      "text/html": [
       "<div>\n",
       "<style scoped>\n",
       "    .dataframe tbody tr th:only-of-type {\n",
       "        vertical-align: middle;\n",
       "    }\n",
       "\n",
       "    .dataframe tbody tr th {\n",
       "        vertical-align: top;\n",
       "    }\n",
       "\n",
       "    .dataframe thead th {\n",
       "        text-align: right;\n",
       "    }\n",
       "</style>\n",
       "<table border=\"1\" class=\"dataframe\">\n",
       "  <thead>\n",
       "    <tr style=\"text-align: right;\">\n",
       "      <th></th>\n",
       "      <th>index</th>\n",
       "      <th>City</th>\n",
       "      <th>Country</th>\n",
       "      <th>Lat</th>\n",
       "      <th>Lng</th>\n",
       "      <th>Humidity</th>\n",
       "      <th>Cloudiness</th>\n",
       "      <th>Max Temp</th>\n",
       "      <th>Wind Speed</th>\n",
       "      <th>Date</th>\n",
       "    </tr>\n",
       "  </thead>\n",
       "  <tbody>\n",
       "    <tr>\n",
       "      <th>0</th>\n",
       "      <td>sorland</td>\n",
       "      <td>Sorland</td>\n",
       "      <td>NO</td>\n",
       "      <td>67.67</td>\n",
       "      <td>12.69</td>\n",
       "      <td>87</td>\n",
       "      <td>40</td>\n",
       "      <td>286.15</td>\n",
       "      <td>5.7</td>\n",
       "      <td>1599025587</td>\n",
       "    </tr>\n",
       "    <tr>\n",
       "      <th>1</th>\n",
       "      <td>gusau</td>\n",
       "      <td>Gusau</td>\n",
       "      <td>NG</td>\n",
       "      <td>12.16</td>\n",
       "      <td>6.66</td>\n",
       "      <td>91</td>\n",
       "      <td>100</td>\n",
       "      <td>295.33</td>\n",
       "      <td>3.6</td>\n",
       "      <td>1599025587</td>\n",
       "    </tr>\n",
       "    <tr>\n",
       "      <th>2</th>\n",
       "      <td>albany</td>\n",
       "      <td>Albany</td>\n",
       "      <td>US</td>\n",
       "      <td>42.6</td>\n",
       "      <td>-73.97</td>\n",
       "      <td>70</td>\n",
       "      <td>90</td>\n",
       "      <td>292.59</td>\n",
       "      <td>0.45</td>\n",
       "      <td>1599025444</td>\n",
       "    </tr>\n",
       "    <tr>\n",
       "      <th>3</th>\n",
       "      <td>busselton</td>\n",
       "      <td>Busselton</td>\n",
       "      <td>AU</td>\n",
       "      <td>-33.65</td>\n",
       "      <td>115.33</td>\n",
       "      <td>78</td>\n",
       "      <td>43</td>\n",
       "      <td>287.04</td>\n",
       "      <td>2.68</td>\n",
       "      <td>1599025588</td>\n",
       "    </tr>\n",
       "    <tr>\n",
       "      <th>4</th>\n",
       "      <td>ratnagiri</td>\n",
       "      <td>Ratnagiri</td>\n",
       "      <td>IN</td>\n",
       "      <td>16.98</td>\n",
       "      <td>73.3</td>\n",
       "      <td>72</td>\n",
       "      <td>100</td>\n",
       "      <td>302.09</td>\n",
       "      <td>3.38</td>\n",
       "      <td>1599025482</td>\n",
       "    </tr>\n",
       "  </tbody>\n",
       "</table>\n",
       "</div>"
      ],
      "text/plain": [
       "       index       City Country    Lat     Lng Humidity Cloudiness Max Temp  \\\n",
       "0    sorland    Sorland      NO  67.67   12.69       87         40   286.15   \n",
       "1      gusau      Gusau      NG  12.16    6.66       91        100   295.33   \n",
       "2     albany     Albany      US   42.6  -73.97       70         90   292.59   \n",
       "3  busselton  Busselton      AU -33.65  115.33       78         43   287.04   \n",
       "4  ratnagiri  Ratnagiri      IN  16.98    73.3       72        100   302.09   \n",
       "\n",
       "  Wind Speed        Date  \n",
       "0        5.7  1599025587  \n",
       "1        3.6  1599025587  \n",
       "2       0.45  1599025444  \n",
       "3       2.68  1599025588  \n",
       "4       3.38  1599025482  "
      ]
     },
     "execution_count": 7,
     "metadata": {},
     "output_type": "execute_result"
    }
   ],
   "source": [
    "#send the city data to a csv saved in the same folder\n",
    "Weather_df.to_csv('weather_data.csv')\n",
    "#rest the index to get a regular numerical index\n",
    "Weather_df.reset_index(inplace = True)\n",
    "Weather_df.head()"
   ]
  },
  {
   "cell_type": "code",
   "execution_count": null,
   "metadata": {},
   "outputs": [],
   "source": []
  },
  {
   "cell_type": "markdown",
   "metadata": {},
   "source": [
    "## Inspect the data and remove the cities where the humidity > 100%.\n",
    "----\n",
    "Skip this step if there are no cities that have humidity > 100%. "
   ]
  },
  {
   "cell_type": "code",
   "execution_count": 8,
   "metadata": {},
   "outputs": [
    {
     "data": {
      "text/html": [
       "<div>\n",
       "<style scoped>\n",
       "    .dataframe tbody tr th:only-of-type {\n",
       "        vertical-align: middle;\n",
       "    }\n",
       "\n",
       "    .dataframe tbody tr th {\n",
       "        vertical-align: top;\n",
       "    }\n",
       "\n",
       "    .dataframe thead th {\n",
       "        text-align: right;\n",
       "    }\n",
       "</style>\n",
       "<table border=\"1\" class=\"dataframe\">\n",
       "  <thead>\n",
       "    <tr style=\"text-align: right;\">\n",
       "      <th></th>\n",
       "      <th>index</th>\n",
       "      <th>City</th>\n",
       "      <th>Country</th>\n",
       "      <th>Lat</th>\n",
       "      <th>Lng</th>\n",
       "      <th>Humidity</th>\n",
       "      <th>Cloudiness</th>\n",
       "      <th>Max Temp</th>\n",
       "      <th>Wind Speed</th>\n",
       "      <th>Date</th>\n",
       "    </tr>\n",
       "  </thead>\n",
       "  <tbody>\n",
       "  </tbody>\n",
       "</table>\n",
       "</div>"
      ],
      "text/plain": [
       "Empty DataFrame\n",
       "Columns: [index, City, Country, Lat, Lng, Humidity, Cloudiness, Max Temp, Wind Speed, Date]\n",
       "Index: []"
      ]
     },
     "execution_count": 8,
     "metadata": {},
     "output_type": "execute_result"
    }
   ],
   "source": [
    "humidity_check = Weather_df.loc[(Weather_df[\"Humidity\"] > 100 )]\n",
    "humidity_check"
   ]
  },
  {
   "cell_type": "code",
   "execution_count": null,
   "metadata": {},
   "outputs": [],
   "source": [
    "#no cities have humidity >100%, so no need to remove any cities"
   ]
  },
  {
   "cell_type": "markdown",
   "metadata": {},
   "source": [
    "## Plotting the Data\n",
    "* Use proper labeling of the plots using plot titles (including date of analysis) and axes labels.\n",
    "* Save the plotted figures as .pngs."
   ]
  },
  {
   "cell_type": "markdown",
   "metadata": {},
   "source": [
    "## Latitude vs. Temperature Plot"
   ]
  },
  {
   "cell_type": "code",
   "execution_count": 9,
   "metadata": {
    "scrolled": true
   },
   "outputs": [
    {
     "data": {
      "image/png": "[encoded data removed]",
      "text/plain": [
       "<Figure size 432x288 with 1 Axes>"
      ]
     },
     "metadata": {
      "needs_background": "light"
     },
     "output_type": "display_data"
    }
   ],
   "source": [
    "# Build a scatter plot for Temperature (F) vs. Latitude\n",
    "plt.scatter(Weather_df[\"Lat\"], Weather_df[\"Max Temp\"], marker=\"o\")\n",
    "\n",
    "# Incorporate the other graph properties\n",
    "plt.title(\"Temperature vs. Latitude\")\n",
    "plt.ylabel(\"Temperature (F)\")\n",
    "plt.xlabel(\"Latitude\")\n",
    "plt.grid(True)\n",
    "\n",
    "# Save the figure\n",
    "plt.savefig(\"TempVsLatScatter.png\")\n",
    "\n",
    "#ANALYSIS\n",
    "#There is a clear correlation between temperature rise and altitude.  \n",
    "#The closer we approach THE EQUATOR ie  0 latitude, the higher he temp gets.  "
   ]
  },
  {
   "cell_type": "markdown",
   "metadata": {},
   "source": [
    "## Latitude vs. Humidity Plot"
   ]
  },
  {
   "cell_type": "code",
   "execution_count": 10,
   "metadata": {},
   "outputs": [
    {
     "data": {
      "image/png": "[encoded data removed]",
      "text/plain": [
       "<Figure size 432x288 with 1 Axes>"
      ]
     },
     "metadata": {
      "needs_background": "light"
     },
     "output_type": "display_data"
    }
   ],
   "source": [
    "# Build a scatter plot for Humidity (%) vs. Latitude\n",
    "plt.scatter(Weather_df[\"Lat\"], Weather_df[\"Humidity\"], marker=\"o\")\n",
    "\n",
    "# Incorporate the other graph properties\n",
    "plt.title(\"Humidity vs. Latitude\")\n",
    "plt.ylabel(\"Humidity (%)\")\n",
    "plt.xlabel(\"Latitude\")\n",
    "plt.grid(True)\n",
    "\n",
    "# Save the figure\n",
    "plt.savefig(\"HumidVsLatScatter.png\")"
   ]
  },
  {
   "cell_type": "code",
   "execution_count": null,
   "metadata": {},
   "outputs": [],
   "source": [
    "#ANALYSIS\n",
    "#There is a slight correlation between latitude  and humidity.  \n",
    "#The further away we are from THE EQUATOR ie  0 latitude, the more humid it gets."
   ]
  },
  {
   "cell_type": "markdown",
   "metadata": {},
   "source": [
    "## Latitude vs. Cloudiness Plot"
   ]
  },
  {
   "cell_type": "code",
   "execution_count": 11,
   "metadata": {},
   "outputs": [
    {
     "data": {
      "image/png": "[encoded data removed]",
      "text/plain": [
       "<Figure size 432x288 with 1 Axes>"
      ]
     },
     "metadata": {
      "needs_background": "light"
     },
     "output_type": "display_data"
    }
   ],
   "source": [
    "# Build a scatter plot for Cloudiness (%) vs. Latitude\n",
    "plt.scatter(Weather_df[\"Lat\"], Weather_df[\"Cloudiness\"], marker=\"o\")\n",
    "\n",
    "# Incorporate the other graph properties\n",
    "plt.title(\"Cloudiness vs. Latitude\")\n",
    "plt.ylabel(\"Cloudiness\")\n",
    "plt.xlabel(\"Latitude\")\n",
    "plt.grid(True)\n",
    "\n",
    "# Save the figure\n",
    "plt.savefig(\"CloudVsLatScatter.png\")"
   ]
  },
  {
   "cell_type": "code",
   "execution_count": null,
   "metadata": {},
   "outputs": [],
   "source": [
    "#ANALYSIS\n",
    "#There is a no clear correlation between temperature rise and latitude.  "
   ]
  },
  {
   "cell_type": "markdown",
   "metadata": {},
   "source": [
    "## Latitude vs. Wind Speed Plot"
   ]
  },
  {
   "cell_type": "code",
   "execution_count": null,
   "metadata": {},
   "outputs": [],
   "source": []
  },
  {
   "cell_type": "code",
   "execution_count": 12,
   "metadata": {},
   "outputs": [
    {
     "data": {
      "image/png": "[encoded data removed]",
      "text/plain": [
       "<Figure size 432x288 with 1 Axes>"
      ]
     },
     "metadata": {
      "needs_background": "light"
     },
     "output_type": "display_data"
    }
   ],
   "source": [
    "# Build a scatter plot for Wind Speed vs. Latitude\n",
    "plt.scatter(Weather_df[\"Lat\"], Weather_df[\"Wind Speed\"], marker=\"o\")\n",
    "\n",
    "# Incorporate the other graph properties\n",
    "plt.title(\"Wind Speed vs. Latitude\")\n",
    "plt.ylabel(\"Wind Speed\")\n",
    "plt.xlabel(\"Latitude\")\n",
    "plt.grid(True)\n",
    "\n",
    "# Save the figure\n",
    "plt.savefig(\"WindVsLatScatter.png\")"
   ]
  },
  {
   "cell_type": "code",
   "execution_count": null,
   "metadata": {},
   "outputs": [],
   "source": [
    "#ANALYSIS\n",
    "#There is a slight correlation between wind speed and altitude.  \n",
    "#The higher the latitude, the higher the wind speed becomes."
   ]
  },
  {
   "cell_type": "markdown",
   "metadata": {},
   "source": [
    "## Linear Regression"
   ]
  },
  {
   "cell_type": "code",
   "execution_count": null,
   "metadata": {},
   "outputs": [],
   "source": []
  },
  {
   "cell_type": "markdown",
   "metadata": {},
   "source": [
    "# OPTIONAL: Create a function to create Linear Regression plots"
   ]
  },
  {
   "cell_type": "code",
   "execution_count": null,
   "metadata": {},
   "outputs": [],
   "source": [
    "\n",
    "# Create Northern and Southern Hemisphere DataFrames\n",
    "Weather_df_north = Weather_df.loc[(Weather_df['Lat']>=0)]\n",
    "Weather_df_south = Weather_df.loc[(Weather_df['Lat']<0)]\n"
   ]
  },
  {
   "cell_type": "markdown",
   "metadata": {},
   "source": [
    "####  Northern Hemisphere - Max Temp vs. Latitude Linear Regression"
   ]
  },
  {
   "cell_type": "code",
   "execution_count": null,
   "metadata": {},
   "outputs": [],
   "source": [
    "#Run linear regression on relationship.\n",
    "#Northern Hemisphere with (greater than or equal to 0 degrees latitude) and Southern Hemisphere (less than 0 degrees latitude)\n",
    "#create Northern Hemisphere dataframe\n",
    "\n",
    "Weather_df_north = Weather_df.loc[Weather_df[\"Lat\"] >= 0]\n",
    "\n",
    "#build scatter plot\n",
    "plt.scatter(Weather_df_north[\"Lat\"], Weather_df_north[\"Max Temp\"], marker=\"o\")\n",
    "\n",
    "# Save the figure\n",
    "plt.savefig(\"MaxTempVsLatNorthernHem.Scatter.png\")\n",
    "\n"
   ]
  },
  {
   "cell_type": "code",
   "execution_count": null,
   "metadata": {},
   "outputs": [],
   "source": [
    "import matplotlib.pyplot as plt\n",
    "import pandas as pd\n",
    "import numpy as np\n",
    "from sklearn.linear_model import LinearRegression \n",
    "\n"
   ]
  },
  {
   "cell_type": "code",
   "execution_count": null,
   "metadata": {},
   "outputs": [],
   "source": [
    "x = np.array(Weather_df_north[\"Max Temp\"])\n",
    "y = np.array(Weather_df_north[\"Lat\"])"
   ]
  },
  {
   "cell_type": "code",
   "execution_count": null,
   "metadata": {},
   "outputs": [],
   "source": [
    "linreg = LinearRegression() "
   ]
  },
  {
   "cell_type": "code",
   "execution_count": null,
   "metadata": {},
   "outputs": [],
   "source": [
    "x= x.reshape(-1,1)"
   ]
  },
  {
   "cell_type": "code",
   "execution_count": null,
   "metadata": {},
   "outputs": [],
   "source": [
    "linreg.fit(x,y)"
   ]
  },
  {
   "cell_type": "code",
   "execution_count": null,
   "metadata": {},
   "outputs": [],
   "source": [
    "y_pred = linreg.predict(x)"
   ]
  },
  {
   "cell_type": "code",
   "execution_count": null,
   "metadata": {},
   "outputs": [],
   "source": [
    "plt.scatter(x,y)\n",
    "plt.plot(x,y_pred,color = \"red\")\n",
    "plt.show()\n",
    "# Save the figure\n",
    "plt.savefig(\"LinregTempVsLatScatter.png\")"
   ]
  },
  {
   "cell_type": "code",
   "execution_count": null,
   "metadata": {},
   "outputs": [],
   "source": [
    "print(linreg.coef_)"
   ]
  },
  {
   "cell_type": "code",
   "execution_count": null,
   "metadata": {},
   "outputs": [],
   "source": [
    "print(linreg.intercept_)"
   ]
  },
  {
   "cell_type": "code",
   "execution_count": null,
   "metadata": {},
   "outputs": [],
   "source": [
    "\n"
   ]
  },
  {
   "cell_type": "code",
   "execution_count": null,
   "metadata": {},
   "outputs": [],
   "source": []
  },
  {
   "cell_type": "markdown",
   "metadata": {},
   "source": [
    "####  Southern Hemisphere - Max Temp vs. Latitude Linear Regression"
   ]
  },
  {
   "cell_type": "code",
   "execution_count": null,
   "metadata": {},
   "outputs": [],
   "source": []
  },
  {
   "cell_type": "markdown",
   "metadata": {},
   "source": [
    "####  Northern Hemisphere - Humidity (%) vs. Latitude Linear Regression"
   ]
  },
  {
   "cell_type": "code",
   "execution_count": null,
   "metadata": {},
   "outputs": [],
   "source": []
  },
  {
   "cell_type": "markdown",
   "metadata": {},
   "source": [
    "####  Southern Hemisphere - Humidity (%) vs. Latitude Linear Regression"
   ]
  },
  {
   "cell_type": "code",
   "execution_count": null,
   "metadata": {},
   "outputs": [],
   "source": []
  },
  {
   "cell_type": "markdown",
   "metadata": {},
   "source": [
    "####  Northern Hemisphere - Cloudiness (%) vs. Latitude Linear Regression"
   ]
  },
  {
   "cell_type": "code",
   "execution_count": null,
   "metadata": {},
   "outputs": [],
   "source": []
  },
  {
   "cell_type": "markdown",
   "metadata": {},
   "source": [
    "####  Southern Hemisphere - Cloudiness (%) vs. Latitude Linear Regression"
   ]
  },
  {
   "cell_type": "code",
   "execution_count": null,
   "metadata": {},
   "outputs": [],
   "source": []
  },
  {
   "cell_type": "markdown",
   "metadata": {},
   "source": [
    "####  Northern Hemisphere - Wind Speed (mph) vs. Latitude Linear Regression"
   ]
  },
  {
   "cell_type": "code",
   "execution_count": null,
   "metadata": {},
   "outputs": [],
   "source": []
  },
  {
   "cell_type": "markdown",
   "metadata": {},
   "source": [
    "####  Southern Hemisphere - Wind Speed (mph) vs. Latitude Linear Regression"
   ]
  },
  {
   "cell_type": "code",
   "execution_count": null,
   "metadata": {},
   "outputs": [],
   "source": []
  },
  {
   "cell_type": "code",
   "execution_count": null,
   "metadata": {},
   "outputs": [],
   "source": []
  }
 ],
 "metadata": {
  "anaconda-cloud": {},
  "kernel_info": {
   "name": "python3"
  },
  "kernelspec": {
   "display_name": "Python 3",
   "language": "python",
   "name": "python3"
  },
  "language_info": {
   "codemirror_mode": {
    "name": "ipython",
    "version": 3
   },
   "file_extension": ".py",
   "mimetype": "text/x-python",
   "name": "python",
   "nbconvert_exporter": "python",
   "pygments_lexer": "ipython3",
   "version": "3.7.6"
  },
  "latex_envs": {
   "LaTeX_envs_menu_present": true,
   "autoclose": false,
   "autocomplete": true,
   "bibliofile": "biblio.bib",
   "cite_by": "apalike",
   "current_citInitial": 1,
   "eqLabelWithNumbers": true,
   "eqNumInitial": 1,
   "hotkeys": {
    "equation": "Ctrl-E",
    "itemize": "Ctrl-I"
   },
   "labels_anchors": false,
   "latex_user_defs": false,
   "report_style_numbering": false,
   "user_envs_cfg": false
  },
  "nteract": {
   "version": "0.12.3"
  }
 },
 "nbformat": 4,
 "nbformat_minor": 2
}
