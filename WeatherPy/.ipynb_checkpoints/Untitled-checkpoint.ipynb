{
 "cells": [
  {
   "cell_type": "code",
   "execution_count": null,
   "metadata": {},
   "outputs": [],
   "source": []
  }
 ],
 "metadata": {
  "kernelspec": {
   "display_name": "Python [conda env:.conda-NewPythonData]",
   "language": "python",
   "name": "conda-env-.conda-NewPythonData-py"
  }
 },
 "nbformat": 4,
 "nbformat_minor": 4
}
